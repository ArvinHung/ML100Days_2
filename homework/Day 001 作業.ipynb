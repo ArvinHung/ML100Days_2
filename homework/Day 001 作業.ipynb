{
 "cells": [
  {
   "cell_type": "code",
   "execution_count": 1,
   "id": "5d518b73",
   "metadata": {},
   "outputs": [],
   "source": [
    "# 計算 MSE(mean squared error)\n",
    "def MSE_calculator(y, y_hat):\n",
    "    MSE = sum((y - y_hat)**2) / len(y)\n",
    "    # MAE計算邏輯：\n",
    "        # 先計算全部 y實際值和預測值的絕對距離\n",
    "        # 再將絕對距離取平均 (加總後除總數量)\n",
    "    return MSE"
   ]
  },
  {
   "cell_type": "code",
   "execution_count": 2,
   "id": "6a5b514e",
   "metadata": {},
   "outputs": [
    {
     "name": "stdout",
     "output_type": "stream",
     "text": [
      "Using matplotlib backend: Qt5Agg\n"
     ]
    },
    {
     "data": {
      "text/plain": [
       "[<matplotlib.lines.Line2D at 0x246da642370>]"
      ]
     },
     "execution_count": 2,
     "metadata": {},
     "output_type": "execute_result"
    }
   ],
   "source": [
    "# 開始製作虛擬資料\n",
    "import numpy as np \n",
    "import matplotlib.pyplot as plt\n",
    "%matplotlib\n",
    "plt.style.use( \"ggplot\" )\n",
    "\n",
    "w = 3\n",
    "b = 0.5\n",
    "x = np.linspace(0,100,101)\n",
    "y = (x + np.random.randn(101) * 5) * w + b   # 製作一堆y的實際值\n",
    "\n",
    "plt.plot(x, y, \"b.\")"
   ]
  },
  {
   "cell_type": "code",
   "execution_count": 3,
   "id": "0c2e9766",
   "metadata": {},
   "outputs": [
    {
     "data": {
      "text/plain": [
       "[<matplotlib.lines.Line2D at 0x246d239e940>]"
      ]
     },
     "execution_count": 3,
     "metadata": {},
     "output_type": "execute_result"
    }
   ],
   "source": [
    "y_hat = (x * w + b)   # 製作一堆y的估計值 \n",
    "plt.plot(x, y_hat, \"r-\")"
   ]
  },
  {
   "cell_type": "code",
   "execution_count": 5,
   "id": "5378a099",
   "metadata": {},
   "outputs": [
    {
     "name": "stdout",
     "output_type": "stream",
     "text": [
      "虛擬資料的MSE是：225.43\n"
     ]
    }
   ],
   "source": [
    "# 呼叫前面自己寫的 MAE_calculator() 來計算 MAE\n",
    "MSE = MSE_calculator(y, y_hat)\n",
    "print(\"虛擬資料的MSE是：%.2f\" % (MSE))"
   ]
  },
  {
   "cell_type": "code",
   "execution_count": null,
   "id": "16b0b17b",
   "metadata": {},
   "outputs": [],
   "source": []
  }
 ],
 "metadata": {
  "kernelspec": {
   "display_name": "Python 3 (ipykernel)",
   "language": "python",
   "name": "python3"
  },
  "language_info": {
   "codemirror_mode": {
    "name": "ipython",
    "version": 3
   },
   "file_extension": ".py",
   "mimetype": "text/x-python",
   "name": "python",
   "nbconvert_exporter": "python",
   "pygments_lexer": "ipython3",
   "version": "3.9.7"
  }
 },
 "nbformat": 4,
 "nbformat_minor": 5
}
