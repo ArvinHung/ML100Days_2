{
 "cells": [
  {
   "cell_type": "code",
   "execution_count": null,
   "id": "e40728c3",
   "metadata": {},
   "outputs": [],
   "source": [
    "# 在金融領域，以往都是由徵授信人員，根據經驗與領域知識來判斷核貸公司的信用風險\n",
    "# 導入機器學習之後，有機會可以建立起一個信用風險預估模型\n",
    "# 將公司財務數據輸入模型後，產出一個風險程度的類別 或是破產機率的預測值\n",
    "# 以此來輔助徵授信人員做更準確的判斷。"
   ]
  }
 ],
 "metadata": {
  "kernelspec": {
   "display_name": "Python 3 (ipykernel)",
   "language": "python",
   "name": "python3"
  },
  "language_info": {
   "codemirror_mode": {
    "name": "ipython",
    "version": 3
   },
   "file_extension": ".py",
   "mimetype": "text/x-python",
   "name": "python",
   "nbconvert_exporter": "python",
   "pygments_lexer": "ipython3",
   "version": "3.9.7"
  }
 },
 "nbformat": 4,
 "nbformat_minor": 5
}
