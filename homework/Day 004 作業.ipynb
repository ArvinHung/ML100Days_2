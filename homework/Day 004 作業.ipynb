{
 "cells": [
  {
   "cell_type": "markdown",
   "id": "dd2604fd",
   "metadata": {},
   "source": [
    "    在資料科學60日馬拉松已經學過很多EDA的東西了"
   ]
  },
  {
   "cell_type": "code",
   "execution_count": null,
   "id": "08fb5783",
   "metadata": {},
   "outputs": [],
   "source": []
  }
 ],
 "metadata": {
  "kernelspec": {
   "display_name": "Python 3 (ipykernel)",
   "language": "python",
   "name": "python3"
  },
  "language_info": {
   "codemirror_mode": {
    "name": "ipython",
    "version": 3
   },
   "file_extension": ".py",
   "mimetype": "text/x-python",
   "name": "python",
   "nbconvert_exporter": "python",
   "pygments_lexer": "ipython3",
   "version": "3.9.7"
  }
 },
 "nbformat": 4,
 "nbformat_minor": 5
}
